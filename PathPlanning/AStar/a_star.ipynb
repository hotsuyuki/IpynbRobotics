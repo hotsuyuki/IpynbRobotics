{
  "nbformat": 4,
  "nbformat_minor": 0,
  "metadata": {
    "colab": {
      "name": "A_star.ipynb",
      "provenance": [],
      "collapsed_sections": []
    },
    "kernelspec": {
      "name": "python3",
      "display_name": "Python 3"
    }
  },
  "cells": [
    {
      "cell_type": "code",
      "metadata": {
        "id": "k3KV4rsm_1zS",
        "colab_type": "code",
        "colab": {
          "base_uri": "https://localhost:8080/",
          "height": 51
        },
        "outputId": "eeae0161-5167-42dd-858d-44511cedcc06"
      },
      "source": [
        "### Pythonのバージョン確認\n",
        "import sys\n",
        "print(sys.version)"
      ],
      "execution_count": 57,
      "outputs": [
        {
          "output_type": "stream",
          "text": [
            "3.6.9 (default, Jul 17 2020, 12:50:27) \n",
            "[GCC 8.4.0]\n"
          ],
          "name": "stdout"
        }
      ]
    },
    {
      "cell_type": "code",
      "metadata": {
        "id": "BV5svbrCuM5m",
        "colab_type": "code",
        "colab": {}
      },
      "source": [
        "import matplotlib.pyplot as plt\n",
        "import math"
      ],
      "execution_count": 58,
      "outputs": []
    },
    {
      "cell_type": "markdown",
      "metadata": {
        "id": "ewQuq0ipzVoS",
        "colab_type": "text"
      },
      "source": [
        "# フィールドの初期化"
      ]
    },
    {
      "cell_type": "code",
      "metadata": {
        "id": "vX4b2JZJr2ZX",
        "colab_type": "code",
        "colab": {
          "base_uri": "https://localhost:8080/",
          "height": 71
        },
        "outputId": "9e37bad1-a778-4d55-d656-205a2baaf6db"
      },
      "source": [
        "### 障害物座標 (x, y) を保持する配列\n",
        "obs_xs = []\n",
        "obs_ys = []\n",
        "\n",
        "max_x = 50\n",
        "max_y = 50\n",
        "\n",
        "### 下壁\n",
        "for i in range(0, max_x):\n",
        "    obs_xs.append(i)\n",
        "    obs_ys.append(0)\n",
        "\n",
        "### 上壁\n",
        "for i in range(0, max_x):\n",
        "    obs_xs.append(i)\n",
        "    obs_ys.append(max_y-1)\n",
        "\n",
        "### 左壁\n",
        "for i in range(0, max_y):\n",
        "    obs_xs.append(0)\n",
        "    obs_ys.append(i)\n",
        "\n",
        "### 右壁\n",
        "for i in range(0, max_y):\n",
        "    obs_xs.append(max_x-1)\n",
        "    obs_ys.append(i)\n",
        "\n",
        "### 障害物（縦線1）\n",
        "for i in range(30, 41):\n",
        "    obs_xs.append(10)\n",
        "    obs_ys.append(i)\n",
        "\n",
        "### 障害物（横線1）\n",
        "for i in range(10, 31):\n",
        "    obs_xs.append(i)\n",
        "    obs_ys.append(30)\n",
        "\n",
        "### 障害物（縦線2）\n",
        "for i in range(20, 31):\n",
        "    obs_xs.append(30)\n",
        "    obs_ys.append(i)\n",
        "\n",
        "### 障害物（横線2）\n",
        "for i in range(30, 36):\n",
        "    obs_xs.append(i)\n",
        "    obs_ys.append(20)\n",
        "\n",
        "print('obs_xs =', obs_xs)\n",
        "print('obs_ys =', obs_ys)"
      ],
      "execution_count": 59,
      "outputs": [
        {
          "output_type": "stream",
          "text": [
            "obs_xs = [0, 1, 2, 3, 4, 5, 6, 7, 8, 9, 10, 11, 12, 13, 14, 15, 16, 17, 18, 19, 20, 21, 22, 23, 24, 25, 26, 27, 28, 29, 30, 31, 32, 33, 34, 35, 36, 37, 38, 39, 40, 41, 42, 43, 44, 45, 46, 47, 48, 49, 0, 1, 2, 3, 4, 5, 6, 7, 8, 9, 10, 11, 12, 13, 14, 15, 16, 17, 18, 19, 20, 21, 22, 23, 24, 25, 26, 27, 28, 29, 30, 31, 32, 33, 34, 35, 36, 37, 38, 39, 40, 41, 42, 43, 44, 45, 46, 47, 48, 49, 0, 0, 0, 0, 0, 0, 0, 0, 0, 0, 0, 0, 0, 0, 0, 0, 0, 0, 0, 0, 0, 0, 0, 0, 0, 0, 0, 0, 0, 0, 0, 0, 0, 0, 0, 0, 0, 0, 0, 0, 0, 0, 0, 0, 0, 0, 0, 0, 0, 0, 49, 49, 49, 49, 49, 49, 49, 49, 49, 49, 49, 49, 49, 49, 49, 49, 49, 49, 49, 49, 49, 49, 49, 49, 49, 49, 49, 49, 49, 49, 49, 49, 49, 49, 49, 49, 49, 49, 49, 49, 49, 49, 49, 49, 49, 49, 49, 49, 49, 49, 10, 10, 10, 10, 10, 10, 10, 10, 10, 10, 10, 10, 11, 12, 13, 14, 15, 16, 17, 18, 19, 20, 21, 22, 23, 24, 25, 26, 27, 28, 29, 30, 30, 30, 30, 30, 30, 30, 30, 30, 30, 30, 30, 30, 31, 32, 33, 34, 35]\n",
            "obs_ys = [0, 0, 0, 0, 0, 0, 0, 0, 0, 0, 0, 0, 0, 0, 0, 0, 0, 0, 0, 0, 0, 0, 0, 0, 0, 0, 0, 0, 0, 0, 0, 0, 0, 0, 0, 0, 0, 0, 0, 0, 0, 0, 0, 0, 0, 0, 0, 0, 0, 0, 49, 49, 49, 49, 49, 49, 49, 49, 49, 49, 49, 49, 49, 49, 49, 49, 49, 49, 49, 49, 49, 49, 49, 49, 49, 49, 49, 49, 49, 49, 49, 49, 49, 49, 49, 49, 49, 49, 49, 49, 49, 49, 49, 49, 49, 49, 49, 49, 49, 49, 0, 1, 2, 3, 4, 5, 6, 7, 8, 9, 10, 11, 12, 13, 14, 15, 16, 17, 18, 19, 20, 21, 22, 23, 24, 25, 26, 27, 28, 29, 30, 31, 32, 33, 34, 35, 36, 37, 38, 39, 40, 41, 42, 43, 44, 45, 46, 47, 48, 49, 0, 1, 2, 3, 4, 5, 6, 7, 8, 9, 10, 11, 12, 13, 14, 15, 16, 17, 18, 19, 20, 21, 22, 23, 24, 25, 26, 27, 28, 29, 30, 31, 32, 33, 34, 35, 36, 37, 38, 39, 40, 41, 42, 43, 44, 45, 46, 47, 48, 49, 30, 31, 32, 33, 34, 35, 36, 37, 38, 39, 40, 30, 30, 30, 30, 30, 30, 30, 30, 30, 30, 30, 30, 30, 30, 30, 30, 30, 30, 30, 30, 30, 20, 21, 22, 23, 24, 25, 26, 27, 28, 29, 30, 20, 20, 20, 20, 20, 20]\n"
          ],
          "name": "stdout"
        }
      ]
    },
    {
      "cell_type": "code",
      "metadata": {
        "id": "-SLiNtPFyajd",
        "colab_type": "code",
        "colab": {}
      },
      "source": [
        "### スタート位置とゴール位置の座標 (x, y) を保持する変数\n",
        "start_x, start_y = 10, 10\n",
        "goal_x, goal_y = 40, 40"
      ],
      "execution_count": 60,
      "outputs": []
    },
    {
      "cell_type": "code",
      "metadata": {
        "id": "oqUame_cwFuv",
        "colab_type": "code",
        "colab": {}
      },
      "source": [
        "### フィールドを描画する関数\n",
        "def DrawField(obs_xs, obs_ys, start_x, start_y, goal_x, goal_y):\n",
        "    plt.scatter(obs_xs, obs_ys, marker='.', color='black')\n",
        "    plt.scatter(start_x, start_y, marker='x', color='blue')\n",
        "    plt.scatter(goal_x, goal_y, marker='x', color='red')\n",
        "    plt.xlabel('X')\n",
        "    plt.ylabel('Y')\n",
        "    plt.axis('equal')\n",
        "    plt.grid(True)\n",
        "\n",
        "    return"
      ],
      "execution_count": 61,
      "outputs": []
    },
    {
      "cell_type": "code",
      "metadata": {
        "id": "Pca58XTM0v93",
        "colab_type": "code",
        "colab": {
          "base_uri": "https://localhost:8080/",
          "height": 279
        },
        "outputId": "4824d403-0ceb-4f3c-f3c3-f5d249fadd35"
      },
      "source": [
        "DrawField(obs_xs, obs_ys, start_x, start_y, goal_x, goal_y)"
      ],
      "execution_count": 62,
      "outputs": [
        {
          "output_type": "display_data",
          "data": {
            "image/png": "[encoded data removed]",
            "text/plain": [
              "<Figure size 432x288 with 1 Axes>"
            ]
          },
          "metadata": {
            "tags": [],
            "needs_background": "light"
          }
        }
      ]
    },
    {
      "cell_type": "markdown",
      "metadata": {
        "id": "ELncEK6UUR5e",
        "colab_type": "text"
      },
      "source": [
        "# 障害物マップとロボットのモーションモデルの作成"
      ]
    },
    {
      "cell_type": "code",
      "metadata": {
        "id": "xA9y0pWqNv-F",
        "colab_type": "code",
        "colab": {
          "base_uri": "https://localhost:8080/",
          "height": 986
        },
        "outputId": "981525b1-df26-4ccb-d1f9-68f9ea82fafa"
      },
      "source": [
        "### 0なら障害物なし / 1なら障害物あり\n",
        "NOT_OBS = 0\n",
        "IS_OBS = 1\n",
        "\n",
        "### ２次元配列の全マスをとりあえず「障害物なし」で初期化\n",
        "obs_map = []\n",
        "for v in range(max_y):\n",
        "    obs_map_oneline = [NOT_OBS for u in range(max_x)] ### [NOT_OBS, NOT_OBS, NOT_OBS, ... , NOT_OBS]\n",
        "    obs_map.append(obs_map_oneline)\n",
        "\n",
        "print('len(obs_map) =', len(obs_map))\n",
        "print('len(obs_map[0]) =', len(obs_map[0]))\n",
        "print()\n",
        "\n",
        "### 障害物の総数\n",
        "assert len(obs_xs) == len(obs_ys)\n",
        "num_obs = len(obs_xs)\n",
        "print('num_obs =', num_obs)\n",
        "print()\n",
        "\n",
        "### 障害物がある座標は「障害物あり」に上書き\n",
        "for i in range(num_obs):\n",
        "    u = obs_xs[i]\n",
        "    v = (max_y - 1) - obs_ys[i] ### 注：Y軸（上向き正 : 左下原点）とV軸（下向き正 : 左上原点）は上下反転する\n",
        "    obs_map[v][u] = IS_OBS\n",
        "\n",
        "### 画面に表示して動作確認\n",
        "print('obs_map = [')\n",
        "for v in range(max_y): \n",
        "    obs_map_oneline = obs_map[v]\n",
        "    print('  ', obs_map_oneline)\n",
        "print(']')"
      ],
      "execution_count": 63,
      "outputs": [
        {
          "output_type": "stream",
          "text": [
            "len(obs_map) = 50\n",
            "len(obs_map[0]) = 50\n",
            "\n",
            "num_obs = 249\n",
            "\n",
            "obs_map = [\n",
            "   [1, 1, 1, 1, 1, 1, 1, 1, 1, 1, 1, 1, 1, 1, 1, 1, 1, 1, 1, 1, 1, 1, 1, 1, 1, 1, 1, 1, 1, 1, 1, 1, 1, 1, 1, 1, 1, 1, 1, 1, 1, 1, 1, 1, 1, 1, 1, 1, 1, 1]\n",
            "   [1, 0, 0, 0, 0, 0, 0, 0, 0, 0, 0, 0, 0, 0, 0, 0, 0, 0, 0, 0, 0, 0, 0, 0, 0, 0, 0, 0, 0, 0, 0, 0, 0, 0, 0, 0, 0, 0, 0, 0, 0, 0, 0, 0, 0, 0, 0, 0, 0, 1]\n",
            "   [1, 0, 0, 0, 0, 0, 0, 0, 0, 0, 0, 0, 0, 0, 0, 0, 0, 0, 0, 0, 0, 0, 0, 0, 0, 0, 0, 0, 0, 0, 0, 0, 0, 0, 0, 0, 0, 0, 0, 0, 0, 0, 0, 0, 0, 0, 0, 0, 0, 1]\n",
            "   [1, 0, 0, 0, 0, 0, 0, 0, 0, 0, 0, 0, 0, 0, 0, 0, 0, 0, 0, 0, 0, 0, 0, 0, 0, 0, 0, 0, 0, 0, 0, 0, 0, 0, 0, 0, 0, 0, 0, 0, 0, 0, 0, 0, 0, 0, 0, 0, 0, 1]\n",
            "   [1, 0, 0, 0, 0, 0, 0, 0, 0, 0, 0, 0, 0, 0, 0, 0, 0, 0, 0, 0, 0, 0, 0, 0, 0, 0, 0, 0, 0, 0, 0, 0, 0, 0, 0, 0, 0, 0, 0, 0, 0, 0, 0, 0, 0, 0, 0, 0, 0, 1]\n",
            "   [1, 0, 0, 0, 0, 0, 0, 0, 0, 0, 0, 0, 0, 0, 0, 0, 0, 0, 0, 0, 0, 0, 0, 0, 0, 0, 0, 0, 0, 0, 0, 0, 0, 0, 0, 0, 0, 0, 0, 0, 0, 0, 0, 0, 0, 0, 0, 0, 0, 1]\n",
            "   [1, 0, 0, 0, 0, 0, 0, 0, 0, 0, 0, 0, 0, 0, 0, 0, 0, 0, 0, 0, 0, 0, 0, 0, 0, 0, 0, 0, 0, 0, 0, 0, 0, 0, 0, 0, 0, 0, 0, 0, 0, 0, 0, 0, 0, 0, 0, 0, 0, 1]\n",
            "   [1, 0, 0, 0, 0, 0, 0, 0, 0, 0, 0, 0, 0, 0, 0, 0, 0, 0, 0, 0, 0, 0, 0, 0, 0, 0, 0, 0, 0, 0, 0, 0, 0, 0, 0, 0, 0, 0, 0, 0, 0, 0, 0, 0, 0, 0, 0, 0, 0, 1]\n",
            "   [1, 0, 0, 0, 0, 0, 0, 0, 0, 0, 0, 0, 0, 0, 0, 0, 0, 0, 0, 0, 0, 0, 0, 0, 0, 0, 0, 0, 0, 0, 0, 0, 0, 0, 0, 0, 0, 0, 0, 0, 0, 0, 0, 0, 0, 0, 0, 0, 0, 1]\n",
            "   [1, 0, 0, 0, 0, 0, 0, 0, 0, 0, 1, 0, 0, 0, 0, 0, 0, 0, 0, 0, 0, 0, 0, 0, 0, 0, 0, 0, 0, 0, 0, 0, 0, 0, 0, 0, 0, 0, 0, 0, 0, 0, 0, 0, 0, 0, 0, 0, 0, 1]\n",
            "   [1, 0, 0, 0, 0, 0, 0, 0, 0, 0, 1, 0, 0, 0, 0, 0, 0, 0, 0, 0, 0, 0, 0, 0, 0, 0, 0, 0, 0, 0, 0, 0, 0, 0, 0, 0, 0, 0, 0, 0, 0, 0, 0, 0, 0, 0, 0, 0, 0, 1]\n",
            "   [1, 0, 0, 0, 0, 0, 0, 0, 0, 0, 1, 0, 0, 0, 0, 0, 0, 0, 0, 0, 0, 0, 0, 0, 0, 0, 0, 0, 0, 0, 0, 0, 0, 0, 0, 0, 0, 0, 0, 0, 0, 0, 0, 0, 0, 0, 0, 0, 0, 1]\n",
            "   [1, 0, 0, 0, 0, 0, 0, 0, 0, 0, 1, 0, 0, 0, 0, 0, 0, 0, 0, 0, 0, 0, 0, 0, 0, 0, 0, 0, 0, 0, 0, 0, 0, 0, 0, 0, 0, 0, 0, 0, 0, 0, 0, 0, 0, 0, 0, 0, 0, 1]\n",
            "   [1, 0, 0, 0, 0, 0, 0, 0, 0, 0, 1, 0, 0, 0, 0, 0, 0, 0, 0, 0, 0, 0, 0, 0, 0, 0, 0, 0, 0, 0, 0, 0, 0, 0, 0, 0, 0, 0, 0, 0, 0, 0, 0, 0, 0, 0, 0, 0, 0, 1]\n",
            "   [1, 0, 0, 0, 0, 0, 0, 0, 0, 0, 1, 0, 0, 0, 0, 0, 0, 0, 0, 0, 0, 0, 0, 0, 0, 0, 0, 0, 0, 0, 0, 0, 0, 0, 0, 0, 0, 0, 0, 0, 0, 0, 0, 0, 0, 0, 0, 0, 0, 1]\n",
            "   [1, 0, 0, 0, 0, 0, 0, 0, 0, 0, 1, 0, 0, 0, 0, 0, 0, 0, 0, 0, 0, 0, 0, 0, 0, 0, 0, 0, 0, 0, 0, 0, 0, 0, 0, 0, 0, 0, 0, 0, 0, 0, 0, 0, 0, 0, 0, 0, 0, 1]\n",
            "   [1, 0, 0, 0, 0, 0, 0, 0, 0, 0, 1, 0, 0, 0, 0, 0, 0, 0, 0, 0, 0, 0, 0, 0, 0, 0, 0, 0, 0, 0, 0, 0, 0, 0, 0, 0, 0, 0, 0, 0, 0, 0, 0, 0, 0, 0, 0, 0, 0, 1]\n",
            "   [1, 0, 0, 0, 0, 0, 0, 0, 0, 0, 1, 0, 0, 0, 0, 0, 0, 0, 0, 0, 0, 0, 0, 0, 0, 0, 0, 0, 0, 0, 0, 0, 0, 0, 0, 0, 0, 0, 0, 0, 0, 0, 0, 0, 0, 0, 0, 0, 0, 1]\n",
            "   [1, 0, 0, 0, 0, 0, 0, 0, 0, 0, 1, 0, 0, 0, 0, 0, 0, 0, 0, 0, 0, 0, 0, 0, 0, 0, 0, 0, 0, 0, 0, 0, 0, 0, 0, 0, 0, 0, 0, 0, 0, 0, 0, 0, 0, 0, 0, 0, 0, 1]\n",
            "   [1, 0, 0, 0, 0, 0, 0, 0, 0, 0, 1, 1, 1, 1, 1, 1, 1, 1, 1, 1, 1, 1, 1, 1, 1, 1, 1, 1, 1, 1, 1, 0, 0, 0, 0, 0, 0, 0, 0, 0, 0, 0, 0, 0, 0, 0, 0, 0, 0, 1]\n",
            "   [1, 0, 0, 0, 0, 0, 0, 0, 0, 0, 0, 0, 0, 0, 0, 0, 0, 0, 0, 0, 0, 0, 0, 0, 0, 0, 0, 0, 0, 0, 1, 0, 0, 0, 0, 0, 0, 0, 0, 0, 0, 0, 0, 0, 0, 0, 0, 0, 0, 1]\n",
            "   [1, 0, 0, 0, 0, 0, 0, 0, 0, 0, 0, 0, 0, 0, 0, 0, 0, 0, 0, 0, 0, 0, 0, 0, 0, 0, 0, 0, 0, 0, 1, 0, 0, 0, 0, 0, 0, 0, 0, 0, 0, 0, 0, 0, 0, 0, 0, 0, 0, 1]\n",
            "   [1, 0, 0, 0, 0, 0, 0, 0, 0, 0, 0, 0, 0, 0, 0, 0, 0, 0, 0, 0, 0, 0, 0, 0, 0, 0, 0, 0, 0, 0, 1, 0, 0, 0, 0, 0, 0, 0, 0, 0, 0, 0, 0, 0, 0, 0, 0, 0, 0, 1]\n",
            "   [1, 0, 0, 0, 0, 0, 0, 0, 0, 0, 0, 0, 0, 0, 0, 0, 0, 0, 0, 0, 0, 0, 0, 0, 0, 0, 0, 0, 0, 0, 1, 0, 0, 0, 0, 0, 0, 0, 0, 0, 0, 0, 0, 0, 0, 0, 0, 0, 0, 1]\n",
            "   [1, 0, 0, 0, 0, 0, 0, 0, 0, 0, 0, 0, 0, 0, 0, 0, 0, 0, 0, 0, 0, 0, 0, 0, 0, 0, 0, 0, 0, 0, 1, 0, 0, 0, 0, 0, 0, 0, 0, 0, 0, 0, 0, 0, 0, 0, 0, 0, 0, 1]\n",
            "   [1, 0, 0, 0, 0, 0, 0, 0, 0, 0, 0, 0, 0, 0, 0, 0, 0, 0, 0, 0, 0, 0, 0, 0, 0, 0, 0, 0, 0, 0, 1, 0, 0, 0, 0, 0, 0, 0, 0, 0, 0, 0, 0, 0, 0, 0, 0, 0, 0, 1]\n",
            "   [1, 0, 0, 0, 0, 0, 0, 0, 0, 0, 0, 0, 0, 0, 0, 0, 0, 0, 0, 0, 0, 0, 0, 0, 0, 0, 0, 0, 0, 0, 1, 0, 0, 0, 0, 0, 0, 0, 0, 0, 0, 0, 0, 0, 0, 0, 0, 0, 0, 1]\n",
            "   [1, 0, 0, 0, 0, 0, 0, 0, 0, 0, 0, 0, 0, 0, 0, 0, 0, 0, 0, 0, 0, 0, 0, 0, 0, 0, 0, 0, 0, 0, 1, 0, 0, 0, 0, 0, 0, 0, 0, 0, 0, 0, 0, 0, 0, 0, 0, 0, 0, 1]\n",
            "   [1, 0, 0, 0, 0, 0, 0, 0, 0, 0, 0, 0, 0, 0, 0, 0, 0, 0, 0, 0, 0, 0, 0, 0, 0, 0, 0, 0, 0, 0, 1, 0, 0, 0, 0, 0, 0, 0, 0, 0, 0, 0, 0, 0, 0, 0, 0, 0, 0, 1]\n",
            "   [1, 0, 0, 0, 0, 0, 0, 0, 0, 0, 0, 0, 0, 0, 0, 0, 0, 0, 0, 0, 0, 0, 0, 0, 0, 0, 0, 0, 0, 0, 1, 1, 1, 1, 1, 1, 0, 0, 0, 0, 0, 0, 0, 0, 0, 0, 0, 0, 0, 1]\n",
            "   [1, 0, 0, 0, 0, 0, 0, 0, 0, 0, 0, 0, 0, 0, 0, 0, 0, 0, 0, 0, 0, 0, 0, 0, 0, 0, 0, 0, 0, 0, 0, 0, 0, 0, 0, 0, 0, 0, 0, 0, 0, 0, 0, 0, 0, 0, 0, 0, 0, 1]\n",
            "   [1, 0, 0, 0, 0, 0, 0, 0, 0, 0, 0, 0, 0, 0, 0, 0, 0, 0, 0, 0, 0, 0, 0, 0, 0, 0, 0, 0, 0, 0, 0, 0, 0, 0, 0, 0, 0, 0, 0, 0, 0, 0, 0, 0, 0, 0, 0, 0, 0, 1]\n",
            "   [1, 0, 0, 0, 0, 0, 0, 0, 0, 0, 0, 0, 0, 0, 0, 0, 0, 0, 0, 0, 0, 0, 0, 0, 0, 0, 0, 0, 0, 0, 0, 0, 0, 0, 0, 0, 0, 0, 0, 0, 0, 0, 0, 0, 0, 0, 0, 0, 0, 1]\n",
            "   [1, 0, 0, 0, 0, 0, 0, 0, 0, 0, 0, 0, 0, 0, 0, 0, 0, 0, 0, 0, 0, 0, 0, 0, 0, 0, 0, 0, 0, 0, 0, 0, 0, 0, 0, 0, 0, 0, 0, 0, 0, 0, 0, 0, 0, 0, 0, 0, 0, 1]\n",
            "   [1, 0, 0, 0, 0, 0, 0, 0, 0, 0, 0, 0, 0, 0, 0, 0, 0, 0, 0, 0, 0, 0, 0, 0, 0, 0, 0, 0, 0, 0, 0, 0, 0, 0, 0, 0, 0, 0, 0, 0, 0, 0, 0, 0, 0, 0, 0, 0, 0, 1]\n",
            "   [1, 0, 0, 0, 0, 0, 0, 0, 0, 0, 0, 0, 0, 0, 0, 0, 0, 0, 0, 0, 0, 0, 0, 0, 0, 0, 0, 0, 0, 0, 0, 0, 0, 0, 0, 0, 0, 0, 0, 0, 0, 0, 0, 0, 0, 0, 0, 0, 0, 1]\n",
            "   [1, 0, 0, 0, 0, 0, 0, 0, 0, 0, 0, 0, 0, 0, 0, 0, 0, 0, 0, 0, 0, 0, 0, 0, 0, 0, 0, 0, 0, 0, 0, 0, 0, 0, 0, 0, 0, 0, 0, 0, 0, 0, 0, 0, 0, 0, 0, 0, 0, 1]\n",
            "   [1, 0, 0, 0, 0, 0, 0, 0, 0, 0, 0, 0, 0, 0, 0, 0, 0, 0, 0, 0, 0, 0, 0, 0, 0, 0, 0, 0, 0, 0, 0, 0, 0, 0, 0, 0, 0, 0, 0, 0, 0, 0, 0, 0, 0, 0, 0, 0, 0, 1]\n",
            "   [1, 0, 0, 0, 0, 0, 0, 0, 0, 0, 0, 0, 0, 0, 0, 0, 0, 0, 0, 0, 0, 0, 0, 0, 0, 0, 0, 0, 0, 0, 0, 0, 0, 0, 0, 0, 0, 0, 0, 0, 0, 0, 0, 0, 0, 0, 0, 0, 0, 1]\n",
            "   [1, 0, 0, 0, 0, 0, 0, 0, 0, 0, 0, 0, 0, 0, 0, 0, 0, 0, 0, 0, 0, 0, 0, 0, 0, 0, 0, 0, 0, 0, 0, 0, 0, 0, 0, 0, 0, 0, 0, 0, 0, 0, 0, 0, 0, 0, 0, 0, 0, 1]\n",
            "   [1, 0, 0, 0, 0, 0, 0, 0, 0, 0, 0, 0, 0, 0, 0, 0, 0, 0, 0, 0, 0, 0, 0, 0, 0, 0, 0, 0, 0, 0, 0, 0, 0, 0, 0, 0, 0, 0, 0, 0, 0, 0, 0, 0, 0, 0, 0, 0, 0, 1]\n",
            "   [1, 0, 0, 0, 0, 0, 0, 0, 0, 0, 0, 0, 0, 0, 0, 0, 0, 0, 0, 0, 0, 0, 0, 0, 0, 0, 0, 0, 0, 0, 0, 0, 0, 0, 0, 0, 0, 0, 0, 0, 0, 0, 0, 0, 0, 0, 0, 0, 0, 1]\n",
            "   [1, 0, 0, 0, 0, 0, 0, 0, 0, 0, 0, 0, 0, 0, 0, 0, 0, 0, 0, 0, 0, 0, 0, 0, 0, 0, 0, 0, 0, 0, 0, 0, 0, 0, 0, 0, 0, 0, 0, 0, 0, 0, 0, 0, 0, 0, 0, 0, 0, 1]\n",
            "   [1, 0, 0, 0, 0, 0, 0, 0, 0, 0, 0, 0, 0, 0, 0, 0, 0, 0, 0, 0, 0, 0, 0, 0, 0, 0, 0, 0, 0, 0, 0, 0, 0, 0, 0, 0, 0, 0, 0, 0, 0, 0, 0, 0, 0, 0, 0, 0, 0, 1]\n",
            "   [1, 0, 0, 0, 0, 0, 0, 0, 0, 0, 0, 0, 0, 0, 0, 0, 0, 0, 0, 0, 0, 0, 0, 0, 0, 0, 0, 0, 0, 0, 0, 0, 0, 0, 0, 0, 0, 0, 0, 0, 0, 0, 0, 0, 0, 0, 0, 0, 0, 1]\n",
            "   [1, 0, 0, 0, 0, 0, 0, 0, 0, 0, 0, 0, 0, 0, 0, 0, 0, 0, 0, 0, 0, 0, 0, 0, 0, 0, 0, 0, 0, 0, 0, 0, 0, 0, 0, 0, 0, 0, 0, 0, 0, 0, 0, 0, 0, 0, 0, 0, 0, 1]\n",
            "   [1, 0, 0, 0, 0, 0, 0, 0, 0, 0, 0, 0, 0, 0, 0, 0, 0, 0, 0, 0, 0, 0, 0, 0, 0, 0, 0, 0, 0, 0, 0, 0, 0, 0, 0, 0, 0, 0, 0, 0, 0, 0, 0, 0, 0, 0, 0, 0, 0, 1]\n",
            "   [1, 0, 0, 0, 0, 0, 0, 0, 0, 0, 0, 0, 0, 0, 0, 0, 0, 0, 0, 0, 0, 0, 0, 0, 0, 0, 0, 0, 0, 0, 0, 0, 0, 0, 0, 0, 0, 0, 0, 0, 0, 0, 0, 0, 0, 0, 0, 0, 0, 1]\n",
            "   [1, 0, 0, 0, 0, 0, 0, 0, 0, 0, 0, 0, 0, 0, 0, 0, 0, 0, 0, 0, 0, 0, 0, 0, 0, 0, 0, 0, 0, 0, 0, 0, 0, 0, 0, 0, 0, 0, 0, 0, 0, 0, 0, 0, 0, 0, 0, 0, 0, 1]\n",
            "   [1, 1, 1, 1, 1, 1, 1, 1, 1, 1, 1, 1, 1, 1, 1, 1, 1, 1, 1, 1, 1, 1, 1, 1, 1, 1, 1, 1, 1, 1, 1, 1, 1, 1, 1, 1, 1, 1, 1, 1, 1, 1, 1, 1, 1, 1, 1, 1, 1, 1]\n",
            "]\n"
          ],
          "name": "stdout"
        }
      ]
    },
    {
      "cell_type": "code",
      "metadata": {
        "id": "XdJ40CKe0GiC",
        "colab_type": "code",
        "colab": {}
      },
      "source": [
        "'''\n",
        "1.41  1  1.41\n",
        "    ↖ ↑ ↗\n",
        " 1  ← * → 1\n",
        "    ↙ ↓ ↘\n",
        "1.41  1  1.41\n",
        "'''\n",
        "\n",
        "### motion_dx, motion_dy, motion_cost\n",
        "motion_model = [\n",
        "    [ 1,  0, 1],\n",
        "    [ 0,  1, 1],\n",
        "    [-1,  0, 1],\n",
        "    [ 0, -1, 1],\n",
        "    [-1, -1, math.sqrt(2)],\n",
        "    [-1,  1, math.sqrt(2)],\n",
        "    [ 1, -1, math.sqrt(2)],\n",
        "    [ 1,  1, math.sqrt(2)]\n",
        "]"
      ],
      "execution_count": 64,
      "outputs": []
    },
    {
      "cell_type": "markdown",
      "metadata": {
        "id": "0WLMvtywBp0L",
        "colab_type": "text"
      },
      "source": [
        "# 経路探索アルゴリズムに使うデータ構造や関数の準備"
      ]
    },
    {
      "cell_type": "code",
      "metadata": {
        "id": "jA_WiSpc198k",
        "colab_type": "code",
        "colab": {}
      },
      "source": [
        "'''\n",
        "(x, y) : 左下原点\n",
        "[\n",
        "    [(0,3), (1,3), (2,3), (3,3)],\n",
        "    [(0,2), (1,2), (2,2), (3,2)],\n",
        "    [(0,1), (1,1), (2,1), (3,1)],\n",
        "    [(0,0), (1,0), (2,0), (3,0)]\n",
        "]\n",
        "\n",
        "↑\n",
        "↓\n",
        "\n",
        "(v, u) : 左上原点\n",
        "[\n",
        "    [(0,0), (0,1), (0,2), (0,3)],\n",
        "    [(1,0), (1,1), (1,2), (1,3)],\n",
        "    [(2,0), (2,1), (2,2), (2,3)],\n",
        "    [(3,0), (3,1), (3,2), (3,3)]\n",
        "]\n",
        "\n",
        "↑\n",
        "↓\n",
        "\n",
        "id : 左上原点\n",
        "[\n",
        "    [ 0,  1,  2,  3],\n",
        "    [ 4,  5,  6,  7],\n",
        "    [ 8,  9, 10, 11],\n",
        "    [12, 13, 14, 15],\n",
        "]\n",
        "'''\n",
        "\n",
        "### (x, y) から ---> id に変換する関数\n",
        "def XY2ID(x, y, max_x, max_y):\n",
        "    u = x\n",
        "    v = (max_y - 1) - y ### 注：Y軸（上向き正 : 左下原点）とV軸（下向き正 : 左上原点）は上下反転する\n",
        "    id = v*max_x + u\n",
        "\n",
        "    return id\n"
      ],
      "execution_count": 65,
      "outputs": []
    },
    {
      "cell_type": "code",
      "metadata": {
        "id": "BoJXMoEU5pK1",
        "colab_type": "code",
        "colab": {
          "base_uri": "https://localhost:8080/",
          "height": 85
        },
        "outputId": "36063403-99bb-4b30-d306-cb7040dfc127"
      },
      "source": [
        "### 画面に表示して動作確認\n",
        "print('id =', XY2ID(x=0, y=3, max_x=4, max_y=4))\n",
        "print('id =', XY2ID(x=0, y=2, max_x=4, max_y=4))\n",
        "print('id =', XY2ID(x=0, y=1, max_x=4, max_y=4))\n",
        "print('id =', XY2ID(x=0, y=0, max_x=4, max_y=4))"
      ],
      "execution_count": 66,
      "outputs": [
        {
          "output_type": "stream",
          "text": [
            "id = 0\n",
            "id = 4\n",
            "id = 8\n",
            "id = 12\n"
          ],
          "name": "stdout"
        }
      ]
    },
    {
      "cell_type": "code",
      "metadata": {
        "id": "cTpuGGlKNtI7",
        "colab_type": "code",
        "colab": {}
      },
      "source": [
        "class Node:\n",
        "    def __init__(self, x, y, cost, parent_id):\n",
        "        self.x = x\n",
        "        self.y = y\n",
        "        self.cost = cost\n",
        "        self.parent_id = parent_id"
      ],
      "execution_count": 67,
      "outputs": []
    },
    {
      "cell_type": "code",
      "metadata": {
        "id": "h15cXt479dK3",
        "colab_type": "code",
        "colab": {}
      },
      "source": [
        "### ここがダイクストラ法とA*の違い\n",
        "### ヒューリスティックコスト（今回は単に注目ノードからゴールノードまでの距離）を計算して返す関数\n",
        "def CalcHeuristicCost(goal_node, open_node):\n",
        "    dist_x = goal_node.x - open_node.x\n",
        "    dist_y = goal_node.y - open_node.y\n",
        "    heuristic_cost = math.sqrt(dist_x**2 + dist_y**2)\n",
        "\n",
        "    return heuristic_cost\n",
        "\n",
        "'''\n",
        "open_nodes_dict = {\n",
        "    0: Node(x0, y0, cost0, parent_id0),\n",
        "    1: Node(x1, y1, cost1, parent_id1),\n",
        "    2: Node(x2, y2, cost2, parent_id2),\n",
        "    3: Node(x3, y3, cost3, parent_id3),\n",
        "        :\n",
        "        :\n",
        "}\n",
        "'''\n",
        "\n",
        "### ここがダイクストラ法とA*の違い\n",
        "### ノードリスト（辞書型）の中からヒューリスティックコスト込みでトータルコストが最小のノードを探してそのノードIDを返す関数\n",
        "def FindMinTotalCostNodeID(open_nodes_dict, goal_node):\n",
        "    min_total_cost = sys.float_info.max\n",
        "    min_total_cost_node_id = None\n",
        "\n",
        "    for id, open_node in open_nodes_dict.items():\n",
        "        heuristic_cost = CalcHeuristicCost(goal_node, open_node)\n",
        "        total_cost = open_node.cost + heuristic_cost\n",
        "\n",
        "        if total_cost < min_total_cost:\n",
        "            min_total_cost = total_cost\n",
        "            min_total_cost_node_id = id\n",
        "\n",
        "    return min_total_cost_node_id"
      ],
      "execution_count": 68,
      "outputs": []
    },
    {
      "cell_type": "code",
      "metadata": {
        "id": "O75k8Hk-GliA",
        "colab_type": "code",
        "colab": {}
      },
      "source": [
        "def IsObsNode(obs_map, node, max_x, max_y):\n",
        "    u = node.x\n",
        "    v = (max_y - 1) - node.y ### 注：Y軸（上向き正 : 左下原点）とV軸（下向き正 : 左上原点）は上下反転する\n",
        "\n",
        "    ### 注目ノードが障害物ノードならアウト\n",
        "    if obs_map[v][u] == IS_OBS:\n",
        "        return True\n",
        "\n",
        "    ### 注目ノードがフィールド外ならアウト（念のため確認）\n",
        "    if node.x < 0 or (max_x - 1) < node.x:\n",
        "        return True\n",
        "    if node.y < 0 or (max_y - 1) < node.y:\n",
        "        return True\n",
        "\n",
        "    ### どの条件にも引っ掛からなかったらセーフ\n",
        "    return False"
      ],
      "execution_count": 69,
      "outputs": []
    },
    {
      "cell_type": "code",
      "metadata": {
        "id": "DSlPd912Qj1W",
        "colab_type": "code",
        "colab": {}
      },
      "source": [
        "### オープンノードリストとクローズノードリストを描画する関数\n",
        "### （コストが低いほど青に近い色　〜　コストが高いほど赤に近い色）\n",
        "def DrawOpenAndCloseNodes(open_nodes_dict, close_nodes_dict, max_x, max_y):\n",
        "    ### コストの値を 0~1 の間に正規化するために最大値（大体の値）を用意\n",
        "    max_cost = math.sqrt(max_x**2 + max_y**2)\n",
        "\n",
        "    for open_node in open_nodes_dict.values():\n",
        "        if open_node.parent_id != None:\n",
        "            norm_node_cost = open_node.cost/max_cost\n",
        "            rgb = (norm_node_cost, 0, 1 - norm_node_cost) ### rgb = (0~1, 0, 0~1)\n",
        "            plt.scatter(open_node.x, open_node.y, facecolors='none', edgecolors=rgb, s=20) ### オープンノードは○で描画\n",
        "\n",
        "    for close_node in close_nodes_dict.values():\n",
        "        if close_node.parent_id != None:\n",
        "            norm_node_cost = close_node.cost/max_cost\n",
        "            rgb = (norm_node_cost, 0, 1 - norm_node_cost) ### rgb = (0~1, 0, 0~1)\n",
        "            plt.scatter(close_node.x, close_node.y, marker='o', color=rgb, s=20) ### クローズノードは●で描画"
      ],
      "execution_count": 70,
      "outputs": []
    },
    {
      "cell_type": "markdown",
      "metadata": {
        "id": "LQf3lpblYgK6",
        "colab_type": "text"
      },
      "source": [
        "# A*による経路探索"
      ]
    },
    {
      "cell_type": "code",
      "metadata": {
        "id": "daPVwHmMWt01",
        "colab_type": "code",
        "colab": {
          "base_uri": "https://localhost:8080/",
          "height": 905
        },
        "outputId": "1eae1829-1b48-4e6e-e219-377a5b71606c"
      },
      "source": [
        "### スタートノードとゴールノードを初期化\n",
        "start_node = Node(start_x, start_y, cost=0.0, parent_id=None)\n",
        "goal_node = Node(goal_x, goal_y, cost=0.0, parent_id=None)\n",
        "\n",
        "### オープンノードリストとクローズノードリストを辞書型で初期化\n",
        "open_nodes_dict = dict()\n",
        "close_nodes_dict = dict()\n",
        "\n",
        "### まず最初にオープンノードリストにスタートノードを追加\n",
        "start_node_id = XY2ID(start_node.x, start_node.y, max_x, max_y)\n",
        "open_nodes_dict[start_node_id] = start_node\n",
        "\n",
        "### ゴールノードに到達まで繰り返し探索\n",
        "step = 0\n",
        "draw_step = 300\n",
        "while True:\n",
        "    ### オープンノードリストが空なら（残念ながら）ゴールまでの経路が発見できなかったということなので終了する\n",
        "    if (len(open_nodes_dict) == 0):\n",
        "        print('open_nodes_dict is empty...')\n",
        "        break\n",
        "\n",
        "    ### ここがダイクストラ法とA*の違い\n",
        "    ### オープンノードリストの中でヒューリスティックコスト込みのトータルコストが最小のノードを現在ノードに設定\n",
        "    curr_node_id = FindMinTotalCostNodeID(open_nodes_dict, goal_node)\n",
        "    curr_node = open_nodes_dict[curr_node_id]\n",
        "\n",
        "    ### ゴールノードに到達したら，ノード情報（コスト，親ノードID）を保存してi経路探索を終了する\n",
        "    if curr_node.x == goal_node.x and curr_node.y == goal_node.y:\n",
        "        print('Goal !!! \\n')\n",
        "        goal_node.cost = curr_node.cost\n",
        "        goal_node.parent_id = curr_node.parent_id\n",
        "        break\n",
        "\n",
        "    ### 現在ノードをオープンノードリストから削除してクローズノードリストに追加\n",
        "    del open_nodes_dict[curr_node_id]\n",
        "    close_nodes_dict[curr_node_id] = curr_node\n",
        "\n",
        "    ### 現在ノードの8近傍（8隣接）ノードをしらみ潰しに探索\n",
        "    for motion_dx, motion_dy, motion_cost in motion_model:\n",
        "        ### 隣接ノードとそのノードIDを設定\n",
        "        neighbor_node = Node(\n",
        "            curr_node.x + motion_dx,\n",
        "            curr_node.y + motion_dy,\n",
        "            cost = curr_node.cost + motion_cost,\n",
        "            parent_id = curr_node_id\n",
        "        )\n",
        "        neighbor_node_id = XY2ID(neighbor_node.x, neighbor_node.y, max_x, max_y)\n",
        "\n",
        "        ### もし隣接ノードが既にクローズノードリストの中にあるなら，もう再度探索はしない\n",
        "        if neighbor_node_id in close_nodes_dict.keys():\n",
        "            continue\n",
        "\n",
        "        ### もし隣接ノードが障害物なら，探索しない\n",
        "        if IsObsNode(obs_map, neighbor_node, max_x, max_y):\n",
        "            continue\n",
        "\n",
        "        ### もし隣接ノードがオープンノードリストの中にまだなければ，そのまま追加\n",
        "        ### もし隣接ノードが既にオープンノードリストの中にあったとしてもコストが新たに下回るなら，上書き\n",
        "        if neighbor_node_id not in open_nodes_dict.keys():\n",
        "            open_nodes_dict[neighbor_node_id] = neighbor_node\n",
        "        elif neighbor_node.cost < open_nodes_dict[neighbor_node_id].cost:\n",
        "            open_nodes_dict[neighbor_node_id] = neighbor_node\n",
        "    ### End of for\n",
        "\n",
        "    ### 繰り返しのステップ数が draw_step 回ごとに探索の途中経過を描画\n",
        "    if step % draw_step == 0:\n",
        "        DrawOpenAndCloseNodes(open_nodes_dict, close_nodes_dict, max_x, max_y)\n",
        "        DrawField(obs_xs, obs_ys, start_x, start_y, goal_x, goal_y)\n",
        "        plt.pause(0.001)\n",
        "\n",
        "    step += 1\n",
        "### End of while\n",
        "\n",
        "print('step =', step)\n",
        "print()\n",
        "\n",
        "print('len(open_nodes_dict) =', len(open_nodes_dict))\n",
        "print('len(close_nodes_dict) =', len(close_nodes_dict))"
      ],
      "execution_count": 71,
      "outputs": [
        {
          "output_type": "display_data",
          "data": {
            "image/png": "[encoded data removed]",
            "text/plain": [
              "<Figure size 432x288 with 1 Axes>"
            ]
          },
          "metadata": {
            "tags": [],
            "needs_background": "light"
          }
        },
        {
          "output_type": "display_data",
          "data": {
            "image/png": "[encoded data removed]",
            "text/plain": [
              "<Figure size 432x288 with 1 Axes>"
            ]
          },
          "metadata": {
            "tags": [],
            "needs_background": "light"
          }
        },
        {
          "output_type": "display_data",
          "data": {
            "image/png": "[encoded data removed]",
            "text/plain": [
              "<Figure size 432x288 with 1 Axes>"
            ]
          },
          "metadata": {
            "tags": [],
            "needs_background": "light"
          }
        },
        {
          "output_type": "stream",
          "text": [
            "Goal !!! \n",
            "\n",
            "step = 690\n",
            "\n",
            "len(open_nodes_dict) = 135\n",
            "len(close_nodes_dict) = 690\n"
          ],
          "name": "stdout"
        }
      ]
    },
    {
      "cell_type": "code",
      "metadata": {
        "id": "fAIM7x-rzOS7",
        "colab_type": "code",
        "colab": {
          "base_uri": "https://localhost:8080/",
          "height": 279
        },
        "outputId": "5e6ab0d0-c161-466b-e520-8afafea5525e"
      },
      "source": [
        "### 探索した最終経路の始まりはゴールノードから\n",
        "path_x = [goal_node.x]\n",
        "path_y = [goal_node.y]\n",
        "next_node_id = goal_node.parent_id\n",
        "\n",
        "### ゴールノードから親ノードIDを辿ってスタートノードに辿り着くまで（つまり next_node_id が None になるまで）繰り返し\n",
        "while next_node_id != None:\n",
        "    next_node = close_nodes_dict[next_node_id]\n",
        "    path_x.append(next_node.x)\n",
        "    path_y.append(next_node.y)\n",
        "    next_node_id = next_node.parent_id\n",
        "\n",
        "### 探索した最終経路とフィールドを描画\n",
        "plt.scatter(path_x, path_y, marker='.', color='cyan')\n",
        "DrawField(obs_xs, obs_ys, start_x, start_y, goal_x, goal_y)"
      ],
      "execution_count": 72,
      "outputs": [
        {
          "output_type": "display_data",
          "data": {
            "image/png": "[encoded data removed]",
            "text/plain": [
              "<Figure size 432x288 with 1 Axes>"
            ]
          },
          "metadata": {
            "tags": [],
            "needs_background": "light"
          }
        }
      ]
    },
    {
      "cell_type": "code",
      "metadata": {
        "id": "Q7UVVj8zPtLu",
        "colab_type": "code",
        "colab": {}
      },
      "source": [
        ""
      ],
      "execution_count": 72,
      "outputs": []
    }
  ]
}